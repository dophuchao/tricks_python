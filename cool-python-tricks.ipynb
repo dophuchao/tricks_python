{
 "cells": [
  {
   "cell_type": "code",
   "execution_count": 1,
   "id": "f3ea6f55",
   "metadata": {},
   "outputs": [
    {
     "name": "stdout",
     "output_type": "stream",
     "text": [
      "hello\n"
     ]
    }
   ],
   "source": [
    "print('hello')"
   ]
  },
  {
   "cell_type": "code",
   "execution_count": 2,
   "id": "f54c5d3b",
   "metadata": {},
   "outputs": [],
   "source": [
    "def square_fn(x):\n",
    "    return x * x\n",
    "\n",
    "square_ld = lambda x: x * x\n",
    "\n",
    "for i in range(10):\n",
    "    assert square_fn(i) == square_ld(i)"
   ]
  },
  {
   "cell_type": "code",
   "execution_count": 3,
   "id": "5795a90d",
   "metadata": {},
   "outputs": [
    {
     "name": "stdout",
     "output_type": "stream",
     "text": [
      "[0.1111111111111111, 2263.0408163265306, 1.0851472983570953, 1.384083044982699, 0.4444444444444444]\n"
     ]
    }
   ],
   "source": [
    "nums = [1/3, 333/7, 2323/2230, 40/34, 2/3]\n",
    "nums_squared = [num * num for num in nums]\n",
    "print(nums_squared)"
   ]
  },
  {
   "cell_type": "code",
   "execution_count": 4,
   "id": "54985dc3",
   "metadata": {},
   "outputs": [
    {
     "name": "stdout",
     "output_type": "stream",
     "text": [
      "[0.1111111111111111, 2263.0408163265306, 1.0851472983570953, 1.384083044982699, 0.4444444444444444]\n"
     ]
    }
   ],
   "source": [
    "nums_squared_1 = map(square_fn, nums)\n",
    "nums_squared_2 = map(lambda x: x * x, nums)\n",
    "print(list(nums_squared_1))"
   ]
  },
  {
   "cell_type": "code",
   "execution_count": null,
   "id": "787db48d",
   "metadata": {},
   "outputs": [],
   "source": []
  }
 ],
 "metadata": {
  "kernelspec": {
   "display_name": "Python 3 (ipykernel)",
   "language": "python",
   "name": "python3"
  },
  "language_info": {
   "codemirror_mode": {
    "name": "ipython",
    "version": 3
   },
   "file_extension": ".py",
   "mimetype": "text/x-python",
   "name": "python",
   "nbconvert_exporter": "python",
   "pygments_lexer": "ipython3",
   "version": "3.10.4"
  }
 },
 "nbformat": 4,
 "nbformat_minor": 5
}
